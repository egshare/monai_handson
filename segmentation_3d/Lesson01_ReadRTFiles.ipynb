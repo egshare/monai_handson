{
 "nbformat": 4,
 "nbformat_minor": 0,
 "metadata": {
  "colab": {
   "provenance": [],
   "gpuType": "T4",
   "authorship_tag": "ABX9TyPYRGYQ2UZ5naoReaGlxIgZ",
   "include_colab_link": true
  },
  "kernelspec": {
   "name": "python3",
   "display_name": "Python 3"
  },
  "language_info": {
   "name": "python"
  },
  "accelerator": "GPU"
 },
 "cells": [
  {
   "cell_type": "markdown",
   "metadata": {
    "id": "view-in-github",
    "colab_type": "text"
   },
   "source": [
    "<a href=\"https://colab.research.google.com/github/egshare/monai_handson/blob/master/segmentation_3d/Lesson01_ReadRTFiles.ipynb\" target=\"_parent\"><img src=\"https://colab.research.google.com/assets/colab-badge.svg\" alt=\"Open In Colab\"/></a>"
   ]
  },
  {
   "cell_type": "markdown",
   "source": [
    "Copyright (c) e-Growth Co., Ltd.\n",
    "\n",
    "このノートブックはMITライセンスの下で公開されています。\n",
    "利用、変更、配布は許可されますが、著作権表示は必須です。\n",
    "詳細はMITライセンスの公式文書を参照してください。\n",
    "\n",
    "# PythonによるDICOM RTデータの読み込みと変換\n",
    "\n",
    "本チュートリアルではDICOM-RTデータを用いた深層学習向けデータの一般的な前処理について説明します。DICOMの3D画像とDICOM RT Structureファイルの読み込み、3D再構成されたデータに対する画像処理および保存方法を学びます。"
   ],
   "metadata": {
    "id": "Amo8VZz-1II9"
   }
  },
  {
   "cell_type": "markdown",
   "source": [
    "## 必要なパッケージのインストールとサンプルデータのダウンロード"
   ],
   "metadata": {
    "id": "VFnK3s8LEa5Z"
   }
  },
  {
   "cell_type": "code",
   "source": [
    "# 必要なライブラリをインストールする\n",
    "# インストール後にカーネルを再起動して\n",
    "!pip install -U SimpleITK  rt-utils==1.2.7"
   ],
   "metadata": {
    "colab": {
     "base_uri": "https://localhost:8080/",
     "height": 361
    },
    "id": "rGZVruXA0-AS",
    "outputId": "fa3064ab-2e4c-487c-9a38-b7f86663fa02"
   },
   "execution_count": null,
   "outputs": []
  },
  {
   "cell_type": "code",
   "source": [
    "# まずはDICOM RTのサンプルデータをダウンロードしてきましょう\n",
    "# 本データはTCIA(Cancer Imaging Archive)で公開されているデータの一部である\n",
    "\n",
    "!wget --no-clobber https://www.dropbox.com/s/8ghdfojohofsayv/RTDcmData.zip"
   ],
   "metadata": {
    "colab": {
     "base_uri": "https://localhost:8080/"
    },
    "id": "TW8L38HF0QfM",
    "outputId": "05c7e25e-d0b6-4829-a688-c310bd6cbd42"
   },
   "execution_count": null,
   "outputs": []
  },
  {
   "cell_type": "code",
   "source": [
    "# ダウンロードしたファイルを解凍します\n",
    "!unzip -n RTDcmData.zip"
   ],
   "metadata": {
    "colab": {
     "base_uri": "https://localhost:8080/"
    },
    "id": "qBs62AtF0jOO",
    "outputId": "8a52e5ae-86a0-407e-b7f3-8fff4fba9ed9"
   },
   "execution_count": null,
   "outputs": []
  },
  {
   "cell_type": "markdown",
   "source": [
    "## PythonでDicom RTの読み込みを行い、データ変換処理をやってみましょう"
   ],
   "metadata": {
    "id": "XBDkjP7TEl1B"
   }
  },
  {
   "cell_type": "code",
   "execution_count": null,
   "metadata": {
    "id": "iLLO6ZOcyvDk"
   },
   "outputs": [],
   "source": [
    "# 必要なライブラリをインポートする\n",
    "\n",
    "import os, glob\n",
    "import SimpleITK as sitk\n",
    "import numpy as np\n",
    "import matplotlib.pyplot as plt"
   ]
  },
  {
   "cell_type": "code",
   "source": [
    "# DICOMディレクトリを読み込む\n",
    "# スライス画像が保存されているフォルダパスを指定して、SimpleITKで読み込みを行う\n",
    "rtImgDir = \"RTDcmData/Prostate-AEC-001/11-17-1992-NA-RX SIMULATION-82988/2.000000-Pelvis-13578/\"\n",
    "reader = sitk.ImageSeriesReader()\n",
    "dicom_names = reader.GetGDCMSeriesFileNames(rtImgDir)\n",
    "reader.SetFileNames(dicom_names)\n",
    "\n",
    "# SimpleITK Imageとして読み込む\n",
    "image = reader.Execute()"
   ],
   "metadata": {
    "id": "BTzLCb2j6O_h"
   },
   "execution_count": null,
   "outputs": []
  },
  {
   "cell_type": "code",
   "source": [
    "# numpy配列として3D画像を取得\n",
    "img3D = sitk.GetArrayFromImage(image)\n",
    "spacing = image.GetSpacing()\n",
    "(spacingX, spacingY, spacingZ) = spacing\n",
    "print(img3D.shape)  # (z, y, x)の順でサイズが表示される\n",
    "print(spacing)  # 注意! (x, y, z)の淳でspacingが表示される"
   ],
   "metadata": {
    "colab": {
     "base_uri": "https://localhost:8080/"
    },
    "id": "TvJiEXCnCAlR",
    "outputId": "f1c17235-ebee-4eab-f9da-52ba39b77153"
   },
   "execution_count": null,
   "outputs": []
  },
  {
   "cell_type": "code",
   "source": [
    "# 簡単なピクセル値正規化例\n",
    "min_ct_val, max_ct_val = -1000, 1000\n",
    "img3DNorm = np.clip(img3D, min_ct_val, max_ct_val)  # 指定した範囲でクリップ\n",
    "img3DNorm = ((img3DNorm - min_ct_val).astype(\"float\")/ (max_ct_val - min_ct_val))  # 0-1.0に正規化"
   ],
   "metadata": {
    "id": "1SI22pTpCMVa"
   },
   "execution_count": null,
   "outputs": []
  },
  {
   "cell_type": "code",
   "source": [
    "# 真ん中のスライスを表示してみる\n",
    "z = img3DNorm.shape[0] // 2\n",
    "slice = img3DNorm[z]\n",
    "plt.imshow(slice)\n",
    "plt.gray()\n",
    "plt.show()\n",
    "\n",
    "# コロナル方向でもスライスを表示してみましょう\n",
    "y = img3DNorm.shape[1] // 2\n",
    "slice = img3DNorm[:, y]\n",
    "# Image Position Patientに沿ってスライス方向がソートされるので、コロナル表示時はsliceの上下を反転して表示\n",
    "# また、aspectを指定しなけr場、縦横1:1で表示されるので、画像が歪みます\n",
    "plt.imshow(slice[::-1], aspect=spacingZ / spacingX)\n",
    "plt.gray()\n",
    "plt.show()"
   ],
   "metadata": {
    "colab": {
     "base_uri": "https://localhost:8080/",
     "height": 852
    },
    "id": "8nIm6cLoCOVS",
    "outputId": "54db00a2-1681-43f0-82bb-5884f72320d9"
   },
   "execution_count": null,
   "outputs": []
  },
  {
   "cell_type": "code",
   "source": [
    "# 残念ながら現時点においてSimpleITKではRT Structureデータを扱えないので、別のライブラリ(rt-utils)を用いる\n",
    "from rt_utils import RTStructBuilder\n",
    "from rt_utils.image_helper import *"
   ],
   "metadata": {
    "id": "p_DJBqMGCdpU"
   },
   "execution_count": null,
   "outputs": []
  },
  {
   "cell_type": "code",
   "source": [
    "# rt-utilsで画像のDICOMが保存されているフォルダ、およびStructureファイルを指定して読み込む\n",
    "rtStructPath = \"./RTDcmData/Prostate-AEC-001/11-17-1992-NA-RX SIMULATION-82988/0.000000-Contouring-60430/1-1.dcm\"\n",
    "rtstruct = RTStructBuilder.create_from(\n",
    "    dicom_series_path=rtImgDir,\n",
    "    rt_struct_path=rtStructPath\n",
    ")"
   ],
   "metadata": {
    "id": "SNQGsInKCjnb"
   },
   "execution_count": null,
   "outputs": []
  },
  {
   "cell_type": "code",
   "source": [
    "# 読み込まれたROI名の一覧を表示してみる\n",
    "roiNames = rtstruct.get_roi_names()\n",
    "print(roiNames)"
   ],
   "metadata": {
    "colab": {
     "base_uri": "https://localhost:8080/"
    },
    "id": "WMbQIkjXCslU",
    "outputId": "bb5aa172-f3e2-42b5-e4d2-aa15504985ae"
   },
   "execution_count": null,
   "outputs": []
  },
  {
   "cell_type": "code",
   "source": [
    "# 1つ目のROIの3D配列を取得し、shapeと最小値、最大値を表示してみる\n",
    "roi3D = rtstruct.get_roi_mask_by_name(roiNames[0]).astype(\"float\")\n",
    "print(roi3D.shape, roi3D.min(), roi3D.max())"
   ],
   "metadata": {
    "colab": {
     "base_uri": "https://localhost:8080/"
    },
    "id": "e0KxXcylCz8B",
    "outputId": "10ff44e6-a956-41e2-ed95-dc9198b578c2"
   },
   "execution_count": null,
   "outputs": []
  },
  {
   "cell_type": "code",
   "source": [
    "# SimpleITKと違い、rt_utilsから取得されるROIの3D配列の軸の並びが異なるので、SimpleITKに合うように軸を入れ替える\n",
    "roi3D = np.transpose(roi3D, [2, 0, 1])"
   ],
   "metadata": {
    "id": "l77TvZ8pC-3s"
   },
   "execution_count": null,
   "outputs": []
  },
  {
   "cell_type": "code",
   "source": [
    "# ROIが存在するスライスのZの範囲を調べる\n",
    "z_indices, _, _ = np.where(roi3D)\n",
    "z_min = z_indices.min()\n",
    "z_max = z_indices.max()\n",
    "\n",
    "# 画像スライスとROIのスライスを並べて表示してみよう\n",
    "z = (z_min + z_max) // 2\n",
    "slice = np.hstack((img3DNorm[z], roi3D[z]))\n",
    "plt.imshow(slice)\n",
    "plt.gray()\n",
    "plt.show()"
   ],
   "metadata": {
    "colab": {
     "base_uri": "https://localhost:8080/",
     "height": 314
    },
    "id": "MujUmrsaDDMG",
    "outputId": "e5a3498b-99f1-4a63-c578-f3a025c67023"
   },
   "execution_count": null,
   "outputs": []
  },
  {
   "cell_type": "markdown",
   "source": [
    "## nii形式として変換保存\n",
    "nii形式はDICOM画像の3D情報のみに限定した保存形式で、MICCAI等の国際会議でもチャレンジ用データ形式として配布されています。\n",
    "\n",
    "NVIDIA MONAIもこの形式の読み込みにデフォルトで対応していますので、読み込んだDICOM RT画像をこの形式に変換して保存しておくことで利便性が高まります"
   ],
   "metadata": {
    "id": "0xaZKbl_Jcqx"
   }
  },
  {
   "cell_type": "code",
   "source": [
    "# nii.gz形式書き出し用のパスを決定\n",
    "outputDir = \"output/\"\n",
    "os.makedirs(outputDir, exist_ok=True)\n",
    "imgNiiPath = f\"{outputDir}/img001.nii.gz\"\n",
    "roiNiiPath = f\"{outputDir}/roi001.nii.gz\""
   ],
   "metadata": {
    "id": "LACmpewxE2hP"
   },
   "execution_count": null,
   "outputs": []
  },
  {
   "cell_type": "code",
   "source": [
    "# nii.gz(niiの圧縮形式)で書き出す\n",
    "image = sitk.GetImageFromArray(img3D)\n",
    "image.SetSpacing(spacing)\n",
    "sitk.WriteImage(image, imgNiiPath)\n",
    "roi = sitk.GetImageFromArray(roi3D)\n",
    "roi.SetSpacing(spacing)\n",
    "sitk.WriteImage(roi, roiNiiPath)"
   ],
   "metadata": {
    "id": "yY56WKJ3JN_8"
   },
   "execution_count": null,
   "outputs": []
  },
  {
   "cell_type": "code",
   "source": [
    "# 書き出したnii.gz形式を読み込んで、同じデータが得られているかを確認しましょう\n",
    "\n",
    "imgNii = sitk.ReadImage(imgNiiPath)\n",
    "img3D = sitk.GetArrayFromImage(imgNii)\n",
    "roiNii = sitk.ReadImage(roiNiiPath)\n",
    "roi3D = sitk.GetArrayFromImage(roiNii)\n",
    "print(img3D.shape, img3D.min(), img3D.max())\n",
    "print(roi3D.shape, roi3D.min(), roi3D.max())\n",
    "\n",
    "img3DNorm = np.clip(img3D, min_ct_val, max_ct_val)  # 指定した範囲でクリップ\n",
    "img3DNorm = ((img3DNorm - min_ct_val).astype(\"float\")/ (max_ct_val - min_ct_val))  # 0-1.0に正規化\n",
    "\n",
    "slice = np.hstack((img3DNorm[z], roi3D[z]))\n",
    "plt.imshow(slice)\n",
    "plt.gray()\n",
    "plt.show()"
   ],
   "metadata": {
    "colab": {
     "base_uri": "https://localhost:8080/",
     "height": 349
    },
    "id": "8T19bWRsH479",
    "outputId": "637c8e7c-5c78-46c8-f470-27ce33a112f2"
   },
   "execution_count": null,
   "outputs": []
  },
  {
   "cell_type": "markdown",
   "source": [
    "# 興味があれば下記も実行してみましょう\n"
   ],
   "metadata": {
    "id": "EwRhgveSDOqx"
   }
  },
  {
   "cell_type": "code",
   "source": [
    "# GoogleColoabで実行時にメモリ不足になる可能性があるので、不要なデータのメモリを開放しておく\n",
    "import gc\n",
    "\n",
    "image = None\n",
    "roi = None\n",
    "imgNii = None\n",
    "roiNii = None\n",
    "\n",
    "gc.collect()"
   ],
   "metadata": {
    "colab": {
     "base_uri": "https://localhost:8080/"
    },
    "id": "xXY1rARsLphN",
    "outputId": "66d0a29b-0e9e-4753-c1d8-b9ce56e87cc9"
   },
   "execution_count": null,
   "outputs": []
  },
  {
   "cell_type": "code",
   "source": [
    "# 擬似的な単純レントゲン(DRR)表示\n",
    "# np.sumで軸を指定して値を合算して、2Dイメージを取得\n",
    "# axisを0または2へ変更すると、アキシャル方向またはサジタル方向に変わります\n",
    "axis = 1\n",
    "aspect = spacingZ / spacingX\n",
    "imgDRR = np.sum(img3D.astype(\"float\"), axis=axis)\n",
    "# 合算した画像全体を最大値と最小値で正規化\n",
    "\n",
    "# 正規化して表示\n",
    "vMin, vMax = imgDRR.min(), imgDRR.max()\n",
    "imgDRR = (np.clip(imgDRR, vMin, vMax) - vMin) / (vMax - vMin)\n",
    "figDRR = plt.figure(figsize = (10,10)) # create a large figure\n",
    "axDRR = figDRR.add_subplot(111)\n",
    "axDRR.imshow(imgDRR[::-1], interpolation='bilinear', aspect=aspect, cmap = \"gray\")\n",
    "plt.title('DRR (Digital Reconstructed Radiograph)')\n",
    "plt.show()"
   ],
   "metadata": {
    "colab": {
     "base_uri": "https://localhost:8080/",
     "height": 679
    },
    "id": "OJzVGvD0DTeD",
    "outputId": "08167052-8b59-49b8-f5fa-32c7a24da9c3"
   },
   "execution_count": null,
   "outputs": []
  },
  {
   "cell_type": "code",
   "source": [
    "# MIP(maximum intensityprojection：最大値投影法)表示\n",
    "# 有効画素値範囲を決定して正規化\n",
    "# wlとwwの値を変更すると画像の最大値が変わりますので、観測可能な対象が変わります\n",
    "wl, ww = 500, 1000\n",
    "vMin = wl - ww//2\n",
    "vMax = vMin + ww\n",
    "imgNorm = (np.clip(img3D, vMin, vMax) - vMin) / (vMax - vMin)\n",
    "\n",
    "# np.sumで軸を指定して最大値を取得して、2Dイメージを取得\n",
    "# axisを0または2へ変更すると、アキシャル方向またはサジタル方向に変わります\n",
    "imgMIP = np.max(imgNorm.astype(\"float\"), axis=axis)\n",
    "\n",
    "# 正規化して表示\n",
    "vMin, vMax = imgMIP.min(), imgMIP.max()\n",
    "imgMIP = (np.clip(imgMIP, vMin, vMax) - vMin) / (vMax - vMin)\n",
    "figDRR = plt.figure(figsize = (10,10)) # create a large figure\n",
    "axDRR = figDRR.add_subplot(111)\n",
    "axDRR.imshow(imgMIP[::-1], interpolation='bilinear', aspect=aspect, cmap = \"gray\")\n",
    "plt.title('MIP (maximum intensity projection)')\n",
    "plt.show()"
   ],
   "metadata": {
    "colab": {
     "base_uri": "https://localhost:8080/",
     "height": 679
    },
    "id": "XrQrmLp_DWoC",
    "outputId": "e6e79d04-053d-4967-d4a4-5947cb479a7a"
   },
   "execution_count": null,
   "outputs": []
  }
 ]
}